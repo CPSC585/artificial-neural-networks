{
 "cells": [
  {
   "cell_type": "code",
   "execution_count": 1,
   "metadata": {},
   "outputs": [],
   "source": [
    "import numpy as np\n",
    "from matplotlib import pyplot as plt"
   ]
  },
  {
   "cell_type": "markdown",
   "metadata": {},
   "source": [
    "# Generic functions"
   ]
  },
  {
   "cell_type": "code",
   "execution_count": 2,
   "metadata": {},
   "outputs": [],
   "source": [
    "def add_noise(y):\n",
    "    \"\"\"\n",
    "    Adds random noise to a set of points\n",
    "    \"\"\"\n",
    "    noise_func = np.vectorize(lambda x: x + np.random.uniform(-np.max(y)/4, np.max(y)/4, 1))\n",
    "    return noise_func(y)"
   ]
  },
  {
   "cell_type": "markdown",
   "metadata": {},
   "source": [
    "# Generating Linear Data"
   ]
  },
  {
   "cell_type": "code",
   "execution_count": 3,
   "metadata": {},
   "outputs": [],
   "source": [
    "def generate_linear_points(start, stop, number, m=3.65, b=6.7):\n",
    "    \"\"\"\n",
    "    Generates points along a line with the equation\n",
    "    y = mx + b (parent function)\n",
    "    \"\"\"\n",
    "    x = np.linspace(start, stop, num=number)\n",
    "    linear_function = np.vectorize(lambda x: m*x + b)\n",
    "    y = linear_function(x)\n",
    "    return (x, y)"
   ]
  },
  {
   "cell_type": "code",
   "execution_count": 4,
   "metadata": {},
   "outputs": [],
   "source": [
    "def get_linear_y_values(X, m=None, b=None):\n",
    "    return m*X + b"
   ]
  },
  {
   "cell_type": "code",
   "execution_count": 5,
   "metadata": {},
   "outputs": [],
   "source": [
    "## Generate 20 points on a line with x values between 1 and 30\n",
    "## with m = 0.6 and b = 30\n",
    "X, _Y = generate_linear_points(1, 50, 100, m=0.6, b=30)\n",
    "## Add random noise to the y values\n",
    "Y = add_noise(_Y)"
   ]
  },
  {
   "cell_type": "code",
   "execution_count": 6,
   "metadata": {},
   "outputs": [
    {
     "data": {
      "text/plain": [
       "<matplotlib.collections.PathCollection at 0x7ffa054bd950>"
      ]
     },
     "execution_count": 6,
     "metadata": {},
     "output_type": "execute_result"
    },
    {
     "data": {
      "image/png": "[encoded data removed]",
      "text/plain": [
       "<matplotlib.figure.Figure at 0x7ffa077f1110>"
      ]
     },
     "metadata": {},
     "output_type": "display_data"
    }
   ],
   "source": [
    "plt.scatter(X, Y)"
   ]
  },
  {
   "cell_type": "markdown",
   "metadata": {},
   "source": [
    "# Determining Gradients"
   ]
  },
  {
   "cell_type": "markdown",
   "metadata": {},
   "source": [
    "Lets define a Square loss function as, where $Y$ is the real value and $mx + b$ or $\\hat{Y}$ is the predicted value and $n$ is the number of points in the data"
   ]
  },
  {
   "cell_type": "markdown",
   "metadata": {},
   "source": [
    "$$L = \\sum_{i=0}^{n}{(Y_i - mx_i - b)^2}$$"
   ]
  },
  {
   "cell_type": "markdown",
   "metadata": {},
   "source": [
    "then the partial differntials with respect to $m$ and $b$ are the following"
   ]
  },
  {
   "cell_type": "markdown",
   "metadata": {},
   "source": [
    "$$\\frac{\\delta L}{\\delta m} = \\sum_{i=0}^{n}{2x_i (b + mx_i - Y_i)}$$"
   ]
  },
  {
   "cell_type": "markdown",
   "metadata": {},
   "source": [
    "and"
   ]
  },
  {
   "cell_type": "markdown",
   "metadata": {},
   "source": [
    "$$\\frac{\\delta L}{\\delta b} = \\sum_{i=0}^{n}{2(b + mx_i - Y_i)}$$"
   ]
  },
  {
   "cell_type": "markdown",
   "metadata": {},
   "source": [
    "the two functions can be re-written as "
   ]
  },
  {
   "cell_type": "markdown",
   "metadata": {},
   "source": [
    "$$\\frac{\\delta L}{\\delta m} = \\sum_{i=0}^{n}{2x_i (\\hat{Y_i} - Y_i)}$$"
   ]
  },
  {
   "cell_type": "markdown",
   "metadata": {},
   "source": [
    "$$\\frac{\\delta L}{\\delta b} = \\sum_{i=0}^{n}{2(\\hat{Y_i} - Y_i)}$$"
   ]
  },
  {
   "cell_type": "markdown",
   "metadata": {},
   "source": [
    "#### you can find partial derivatives for virutally any function that you can think of using https://www.wolframalpha.com/examples/math/calculus/"
   ]
  },
  {
   "cell_type": "code",
   "execution_count": 7,
   "metadata": {},
   "outputs": [],
   "source": [
    "def get_linear_gradients_mse(X, Y, Y_hat):\n",
    "    \"\"\"\n",
    "    returns gradients for the two variables m and b assuming mean square error\n",
    "    for a linear equation y = mx + b\n",
    "    \"\"\"\n",
    "    # dL/dm\n",
    "    m_gradient = np.sum(2*X*(Y_hat - Y))/len(Y) ### Try removing the normalization factor len(Y)\n",
    "    # dL/db\n",
    "    b_gradient = np.sum(2*(Y_hat - Y))/len(Y)\n",
    "    return m_gradient, b_gradient"
   ]
  },
  {
   "cell_type": "markdown",
   "metadata": {},
   "source": [
    "# Minimization"
   ]
  },
  {
   "cell_type": "code",
   "execution_count": 8,
   "metadata": {
    "scrolled": true
   },
   "outputs": [
    {
     "name": "stdout",
     "output_type": "stream",
     "text": [
      "Estimates after 10000 iterations: m = 0.617472729424, b = 29.2931253201\n"
     ]
    },
    {
     "data": {
      "image/png": "[encoded data removed]",
      "text/plain": [
       "<matplotlib.figure.Figure at 0x7ffa05547b10>"
      ]
     },
     "metadata": {},
     "output_type": "display_data"
    }
   ],
   "source": [
    "# Initial Values\n",
    "m = 5\n",
    "b = 10\n",
    "# Learning rate\n",
    "alpha = 0.001\n",
    "# Number of iterations\n",
    "N = 10000\n",
    "for i in range(N):\n",
    "    Y_hat = get_linear_y_values(X, m, b)\n",
    "    m_grad, b_grad = get_linear_gradients_mse(X, Y, Y_hat)\n",
    "    # update m and b for the next iteration\n",
    "    m = m - alpha * m_grad\n",
    "    b = b - alpha * b_grad\n",
    "# The final value of \n",
    "plt.plot(X, get_linear_y_values(X, m, b), 'r')\n",
    "plt.scatter(X, Y)\n",
    "print \"Estimates after {} iterations: m = {}, b = {}\".format(N, m, b)"
   ]
  },
  {
   "cell_type": "markdown",
   "metadata": {},
   "source": [
    "You can play around with the `initial values`, `learning rate`, `number of iterations` etc \n",
    "to get an idea of how gradient descent works in practice. "
   ]
  },
  {
   "cell_type": "markdown",
   "metadata": {},
   "source": [
    "# Assignment\n",
    "\n",
    "1. Generate some noisy data for any other function that is not a straight line.\n",
    "2. Write a python function for returning gradients for the variables. Use WolframAlpha generously here.\n",
    "3. Iterate to minimize your loss and finally plot the fitted curve."
   ]
  },
  {
   "cell_type": "markdown",
   "metadata": {},
   "source": [
    "# Extra Credit\n",
    "\n",
    "1. Write one other python function that calculates and returns the gradients for $m$ and $b$ using a different loss function. Hint: Use google here\n",
    "\n",
    "2. Iterate to minimize your loss and finally plot the fitted curve."
   ]
  },
  {
   "cell_type": "code",
   "execution_count": null,
   "metadata": {},
   "outputs": [],
   "source": []
  }
 ],
 "metadata": {
  "kernelspec": {
   "display_name": "Python 2",
   "language": "python",
   "name": "python2"
  },
  "language_info": {
   "codemirror_mode": {
    "name": "ipython",
    "version": 2
   },
   "file_extension": ".py",
   "mimetype": "text/x-python",
   "name": "python",
   "nbconvert_exporter": "python",
   "pygments_lexer": "ipython2",
   "version": "2.7.12"
  }
 },
 "nbformat": 4,
 "nbformat_minor": 2
}
